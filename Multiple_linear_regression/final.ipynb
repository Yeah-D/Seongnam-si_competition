{
 "cells": [
  {
   "cell_type": "code",
   "execution_count": 2,
   "metadata": {},
   "outputs": [
    {
     "name": "stdout",
     "output_type": "stream",
     "text": [
      "                            OLS Regression Results                            \n",
      "==============================================================================\n",
      "Dep. Variable:             ED_NA_2022   R-squared:                       0.719\n",
      "Model:                            OLS   Adj. R-squared:                  0.706\n",
      "Method:                 Least Squares   F-statistic:                     52.96\n",
      "Date:                Sun, 28 May 2023   Prob (F-statistic):           4.26e-17\n",
      "Time:                        22:03:48   Log-Likelihood:                -379.20\n",
      "No. Observations:                  66   AIC:                             766.4\n",
      "Df Residuals:                      62   BIC:                             775.2\n",
      "Df Model:                           3                                         \n",
      "Covariance Type:            nonrobust                                         \n",
      "==============================================================================\n",
      "                 coef    std err          t      P>|t|      [0.025      0.975]\n",
      "------------------------------------------------------------------------------\n",
      "const         -1.6459     44.707     -0.037      0.971     -91.015      87.723\n",
      "NE_2022        0.0035      0.000     12.119      0.000       0.003       0.004\n",
      "Car            1.6019     86.680      0.018      0.985    -171.670     174.874\n",
      "Area_m2     6.633e-08   4.61e-08      1.440      0.155   -2.58e-08    1.58e-07\n",
      "==============================================================================\n",
      "Omnibus:                       18.614   Durbin-Watson:                   2.050\n",
      "Prob(Omnibus):                  0.000   Jarque-Bera (JB):               27.835\n",
      "Skew:                           1.055   Prob(JB):                     9.03e-07\n",
      "Kurtosis:                       5.382   Cond. No.                     3.01e+09\n",
      "==============================================================================\n",
      "\n",
      "Notes:\n",
      "[1] Standard Errors assume that the covariance matrix of the errors is correctly specified.\n",
      "[2] The condition number is large, 3.01e+09. This might indicate that there are\n",
      "strong multicollinearity or other numerical problems.\n"
     ]
    }
   ],
   "source": [
    "# 다중선형회귀분석\n",
    "\n",
    "import pandas as pd\n",
    "import statsmodels.api as sm\n",
    "import matplotlib.pyplot as plt\n",
    "\n",
    "# Load data\n",
    "data = pd.read_csv(\"Elderly_Accident_Dataset.csv\")\n",
    "\n",
    "# Select independent variables and dependent variables\n",
    "X = data[[\"NE_2022\", \"Car\", \"Area_m2\"]]\n",
    "y = data[\"ED_NA_2022\"]\n",
    "\n",
    "# Add constant to independent variables\n",
    "X = sm.add_constant(X)\n",
    "\n",
    "# Fit the linear regression model\n",
    "model = sm.OLS(y, X).fit()\n",
    "\n",
    "# Print the model summary\n",
    "print(model.summary())"
   ]
  },
  {
   "cell_type": "code",
   "execution_count": 10,
   "metadata": {},
   "outputs": [
    {
     "name": "stdout",
     "output_type": "stream",
     "text": [
      "                            OLS Regression Results                            \n",
      "==============================================================================\n",
      "Dep. Variable:                      y   R-squared:                       0.895\n",
      "Model:                            OLS   Adj. R-squared:                  0.892\n",
      "Method:                 Least Squares   F-statistic:                     256.0\n",
      "Date:                Sun, 28 May 2023   Prob (F-statistic):           3.12e-16\n",
      "Time:                        22:10:06   Log-Likelihood:                 410.25\n",
      "No. Observations:                  32   AIC:                            -816.5\n",
      "Df Residuals:                      30   BIC:                            -813.6\n",
      "Df Model:                           1                                         \n",
      "Covariance Type:            nonrobust                                         \n",
      "==============================================================================\n",
      "                 coef    std err          t      P>|t|      [0.025      0.975]\n",
      "------------------------------------------------------------------------------\n",
      "const       3.895e-08   1.62e-07      0.240      0.812   -2.92e-07     3.7e-07\n",
      "x1             0.0036      0.000     15.999      0.000       0.003       0.004\n",
      "==============================================================================\n",
      "Omnibus:                       24.050   Durbin-Watson:                   2.549\n",
      "Prob(Omnibus):                  0.000   Jarque-Bera (JB):               52.350\n",
      "Skew:                          -1.595   Prob(JB):                     4.29e-12\n",
      "Kurtosis:                       8.393   Cond. No.                     1.89e+03\n",
      "==============================================================================\n",
      "\n",
      "Notes:\n",
      "[1] Standard Errors assume that the covariance matrix of the errors is correctly specified.\n",
      "[2] The condition number is large, 1.89e+03. This might indicate that there are\n",
      "strong multicollinearity or other numerical problems.\n"
     ]
    }
   ],
   "source": [
    "import pandas as pd\n",
    "import statsmodels.api as sm\n",
    "import matplotlib.pyplot as plt\n",
    "\n",
    "df = pd.read_csv('Elderly_Accident_Dataset_g.csv')\n",
    "\n",
    "X = df.NE_area_2022.values\n",
    "Y = df.NA_area_2022.values\n",
    "\n",
    "# 독립 변수 X에 상수항 추가\n",
    "X = sm.add_constant(X)\n",
    "\n",
    "# NE 와 ED_NA_2022 간의 회귀분석 및 산점도 시각화\n",
    "X = df.NE_area_2022.values\n",
    "Y = df.NA_area_2022.values\n",
    "\n",
    "# 독립 변수 X에 상수항 추가\n",
    "X = sm.add_constant(X)\n",
    "\n",
    "# 선형 회귀 모델 적합\n",
    "model = sm.OLS(Y, X)\n",
    "result = model.fit()\n",
    "\n",
    "# 회귀 분석 결과 출력\n",
    "print(result.summary())"
   ]
  }
 ],
 "metadata": {
  "kernelspec": {
   "display_name": "Python 3",
   "language": "python",
   "name": "python3"
  },
  "language_info": {
   "codemirror_mode": {
    "name": "ipython",
    "version": 3
   },
   "file_extension": ".py",
   "mimetype": "text/x-python",
   "name": "python",
   "nbconvert_exporter": "python",
   "pygments_lexer": "ipython3",
   "version": "3.11.2"
  },
  "orig_nbformat": 4
 },
 "nbformat": 4,
 "nbformat_minor": 2
}
